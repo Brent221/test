{
 "cells": [
  {
   "cell_type": "code",
   "execution_count": null,
   "id": "f0b2c598",
   "metadata": {},
   "outputs": [],
   "source": [
    "import random \n",
    "while print(input(\"Type selection here \" \"-r / p / s: \") not in [\"r\", \"p\", \"s\"]): pass\n",
    "print(random.choice([\"GGRAATZ you win\", \"you lose\", \"it's a draw\"]))\n",
    "while input(\"r / p / s\") not in [\"r\", \"p\", \"s\"]: pass \n",
    "print(random.choice([\"GRATZ you win\", \"you lose\", \"it's a draw\"]))"
   ]
  },
  {
   "cell_type": "code",
   "execution_count": null,
   "id": "e97ffbca",
   "metadata": {},
   "outputs": [],
   "source": []
  },
  {
   "cell_type": "code",
   "execution_count": null,
   "id": "8ebb8265",
   "metadata": {},
   "outputs": [],
   "source": []
  },
  {
   "cell_type": "code",
   "execution_count": null,
   "id": "30f0674a",
   "metadata": {},
   "outputs": [],
   "source": []
  }
 ],
 "metadata": {
  "kernelspec": {
   "display_name": "Python 3",
   "language": "python",
   "name": "python3"
  },
  "language_info": {
   "codemirror_mode": {
    "name": "ipython",
    "version": 3
   },
   "file_extension": ".py",
   "mimetype": "text/x-python",
   "name": "python",
   "nbconvert_exporter": "python",
   "pygments_lexer": "ipython3",
   "version": "3.8.8"
  }
 },
 "nbformat": 4,
 "nbformat_minor": 5
}
